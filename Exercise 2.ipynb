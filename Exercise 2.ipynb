{
 "cells": [
  {
   "cell_type": "code",
   "execution_count": 4,
   "metadata": {},
   "outputs": [
    {
     "name": "stdout",
     "output_type": "stream",
     "text": [
      "Enter the radius of the circle: 5\n",
      "Area of circle is:  78.53981633974483\n"
     ]
    }
   ],
   "source": [
    "#1:prgm to input radius and find area\n",
    "import math\n",
    "r=int(input(\"Enter the radius of the circle: \"))\n",
    "a=math.pi*r*r\n",
    "print('Area of circle is: ',a)"
   ]
  },
  {
   "cell_type": "code",
   "execution_count": 3,
   "metadata": {},
   "outputs": [
    {
     "name": "stdout",
     "output_type": "stream",
     "text": [
      "Enter an Integer: 3\n",
      "Sum is:  369\n"
     ]
    }
   ],
   "source": [
    "#2:prgm to print sum of a no. in a format as n+nn+nnn \n",
    "n=int(input(\"Enter an Integer: \"))\n",
    "print(\"Sum is: \",((n)+((n*10)+n)+((n*100)+(n*10)+(n))))"
   ]
  },
  {
   "cell_type": "code",
   "execution_count": null,
   "metadata": {
    "collapsed": true
   },
   "outputs": [],
   "source": []
  }
 ],
 "metadata": {
  "kernelspec": {
   "display_name": "Python 3",
   "language": "python",
   "name": "python3"
  },
  "language_info": {
   "codemirror_mode": {
    "name": "ipython",
    "version": 3
   },
   "file_extension": ".py",
   "mimetype": "text/x-python",
   "name": "python",
   "nbconvert_exporter": "python",
   "pygments_lexer": "ipython3",
   "version": "3.6.3"
  }
 },
 "nbformat": 4,
 "nbformat_minor": 2
}
