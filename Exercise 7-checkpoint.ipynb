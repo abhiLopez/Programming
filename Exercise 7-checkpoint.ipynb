{
 "cells": [
  {
   "cell_type": "code",
   "execution_count": 4,
   "metadata": {},
   "outputs": [
    {
     "name": "stdout",
     "output_type": "stream",
     "text": [
      "Enter Some Comma Separated List of Integers: -1,-20,20,40,-70,50\n",
      "The Positive values in entered List is:  [20, 40, 50]\n"
     ]
    }
   ],
   "source": [
    "#1:a) prgrm to find a positive list of  numbers from a given list of integers\n",
    "l=list(map(int,input(\"Enter Some Comma Separated List of Integers: \").split(\",\")))\n",
    "r=[x for x in l if x>0]\n",
    "print(\"The Positive values in entered List is: \",r)"
   ]
  },
  {
   "cell_type": "code",
   "execution_count": 1,
   "metadata": {},
   "outputs": [
    {
     "name": "stdout",
     "output_type": "stream",
     "text": [
      "Enter some comma seperated numbers: 2,3,4,5\n",
      "Square of entered numbers  [2, 3, 4, 5]  is:  [4, 9, 16, 25]\n"
     ]
    }
   ],
   "source": [
    "#1:b) prgrm to find the Square of N Numbers\n",
    "l=list(map(int,input(\"Enter some comma seperated numbers: \").split(\",\")))\n",
    "r=[x*x for x in l]\n",
    "print(\"Square of entered numbers \",l,\" is: \",r)\n"
   ]
  },
  {
   "cell_type": "code",
   "execution_count": 6,
   "metadata": {},
   "outputs": [
    {
     "name": "stdout",
     "output_type": "stream",
     "text": [
      "Enter a Word: creational\n",
      "List of Vowels in  creational is:  ['e', 'a', 'i', 'o']\n"
     ]
    }
   ],
   "source": [
    "#1:c) prgm to Form a list of vowels from a given word\n",
    "w=input(\"Enter a Word: \")\n",
    "rs=[]\n",
    "rs=[x for x in w if x in ['a','e','i','o','u','A','E','I','O','U']]\n",
    "temp=[]\n",
    "for i in rs:\n",
    "    if i not in temp:\n",
    "        temp.append(i)\n",
    "print(\"List of Vowels in \",w,\"is: \",temp)\n"
   ]
  },
  {
   "cell_type": "code",
   "execution_count": null,
   "metadata": {},
   "outputs": [],
   "source": [
    "#1:d) prgrm to find Ordinal values of characters of an inputed word\n",
    "word=input(\"Enter any word: \")\n",
    "l=list(word)\n",
    "print(l)\n",
    "o=[ord(x) for x in l]\n",
    "print(\"The Corresponding Ordinal values are: \",o)\n"
   ]
  },
  {
   "cell_type": "code",
   "execution_count": 2,
   "metadata": {},
   "outputs": [
    {
     "name": "stdout",
     "output_type": "stream",
     "text": [
      "Enter some comma seperated integers: 1,3,99,100,101\n",
      "The Resulting list is:  [1, 3, 99, 100, 'Over']\n"
     ]
    }
   ],
   "source": [
    "#2:prgm to print \"over\" for values greater than 100\n",
    "l=list(map(int,input(\"Enter some comma seperated integers: \").split(\",\")))\n",
    "for i in range (len(l)):\n",
    "    if l[i]>100:\n",
    "        l[i]=\"Over\"\n",
    "print(\"The Resulting list is: \",l)"
   ]
  },
  {
   "cell_type": "code",
   "execution_count": 1,
   "metadata": {},
   "outputs": [
    {
     "name": "stdout",
     "output_type": "stream",
     "text": [
      "Enter Few comma Seperated Names: ace,sabo,nami,sanji\n",
      "Total number of occurences of 'a' in list is:  4\n"
     ]
    }
   ],
   "source": [
    "#3:prgm to count occurences of 'a' from the list\n",
    "name=input(\"Enter Few comma Seperated Names: \")\n",
    "l=name.split(\",\")\n",
    "t=0\n",
    "for i in l:\n",
    "    #print(\"The number of occurences of a in\",i,\"is: \",i.count(\"a\"))\n",
    "    t=t+i.count(\"a\")\n",
    "print(\"Total number of occurences of 'a' in list is: \",t)"
   ]
  },
  {
   "cell_type": "raw",
   "metadata": {},
   "source": [
    "#4:prgm to input 2 list and check if length is same,sums to same value,any value occur in both\n",
    "a=list(map(int,input(\"Enter Integer Numbers separated by Comma's: \").split(\",\")))\n",
    "#c=a\n",
    "b=list(map(int,input(\"Enter Integer Numbers separated by Comma's: \").split(\",\")))\n",
    "#Length\n",
    "if len(a)==len(b):\n",
    "    print(\"Both List's have same Length, Which is :\",len(a))\n",
    "else:\n",
    "    print(\"Both List's have Different Length: \",len(a),\"and\",len(b))\n",
    "#Sum\n",
    "if sum(a)==sum(b) :\n",
    "    print(\"The Sum of List's are Same, Which is: \",sum(a))\n",
    "else :\n",
    "    print(\"The Sum's are Different and are \" ,sum(a),\"&\",sum(b),\" respectively.\" )\n",
    "c=[x for x in a if x in b ]\n",
    "if c!=0:\n",
    "    print(\"The Same Elements in Both List: \",c)\n",
    "else:\n",
    "    print(\"There is No Same Elements in Given List ! \")\n"
   ]
  },
  {
   "cell_type": "code",
   "execution_count": 3,
   "metadata": {},
   "outputs": [
    {
     "name": "stdout",
     "output_type": "stream",
     "text": [
      "Enter a list of Diff Colours separated by Comma's: blck,blu,grn,rd\n",
      "\n",
      "\n",
      "Enter another list of Colours separated by Comma's: blck,rd\n",
      "\n",
      "\n",
      "The List of Colours Excluding Colours of Second List:  ['blu', 'grn']\n"
     ]
    }
   ],
   "source": [
    "#5:prgm to print all colors frm colr list1 not contained in colr list2 \n",
    "\n",
    "a=list(input(\"Enter a list of Diff Colours separated by Comma's: \").split(\",\"))\n",
    "print(\"\\n\")\n",
    "b=list(input(\"Enter another list of Colours separated by Comma's: \").split(\",\"))\n",
    "print(\"\\n\")\n",
    "c=[x for x in a if x not in b ]\n",
    "if c!=0:\n",
    "    print(\"The List of Colours Excluding Colours of Second List: \",c)\n",
    "else:\n",
    "    print(\"Both List Have the Same Colours: \")\n",
    "    "
   ]
  },
  {
   "cell_type": "code",
   "execution_count": 17,
   "metadata": {},
   "outputs": [
    {
     "name": "stdout",
     "output_type": "stream",
     "text": [
      "Enter a list of Integer Numbers separated by Comma: 1,2,3,4,5,6\n",
      "\n",
      "\n",
      "The List of Numbers Excluding Even NO.'s are:  [1, 3, 5]\n"
     ]
    }
   ],
   "source": [
    "#6:prgrm to print a list without even no.'s\n",
    "a=list(map(int,input(\"Enter a list of Integer Numbers separated by Comma: \").split(\",\")))\n",
    "print(\"\\n\")\n",
    "odnm=[i for i in a if (i%2!=0)]\n",
    "print(\"The List of Numbers Excluding Even NO.'s are: \",odnm)"
   ]
  },
  {
   "cell_type": "code",
   "execution_count": 8,
   "metadata": {},
   "outputs": [
    {
     "name": "stdout",
     "output_type": "stream",
     "text": [
      "Enter the Lmit for Inputs: 3\n",
      "Enter a valid Key: 1\n",
      "Enter Key Value: 7\n",
      "Enter a valid Key: 2\n",
      "Enter Key Value: 5\n",
      "Enter a valid Key: 3\n",
      "Enter Key Value: 9\n",
      "The dictionary values in ascending order:  ['5', '7', '9']\n",
      "\n",
      "\n",
      "The dictionary values in descending order:  ['9', '7', '5']\n"
     ]
    }
   ],
   "source": [
    "#7:prgm to create and sort a dictionary\n",
    "d={}\n",
    "l=[]\n",
    "a=int(input(\"Enter the Lmit for Inputs: \"))\n",
    "for i in range(a):\n",
    "    key=input(\"Enter a valid Key: \")\n",
    "    value=input(\"Enter Key Value: \")\n",
    "    d.update({key:value})\n",
    "l=sorted(d.values())\n",
    "l2=sorted(d.values(),reverse=True)\n",
    "print(\"The dictionary values in ascending order: \",l[0:])\n",
    "print(\"\\n\")\n",
    "print(\"The dictionary values in descending order: \",l2)"
   ]
  },
  {
   "cell_type": "code",
   "execution_count": 4,
   "metadata": {},
   "outputs": [
    {
     "name": "stdout",
     "output_type": "stream",
     "text": [
      "Enter Limit of Inputs for dic 1: 2\n",
      "Key: mangaka\n",
      "Value: One Piece\n",
      "Key: Mc\n",
      "Value: Monkey D. \n",
      "The First Dictionary is:  {'mangaka': 'One Piece', 'Mc': 'Monkey D. '}\n",
      "\n",
      "\n",
      "Enter Limit of Inputs for dic 2: 2\n",
      "Key: mangaka\n",
      "Value: Naruto\n",
      "Key: mc\n",
      "Value: Naruto\n",
      "The Second Dictionary is:  {'mangaka': 'Naruto', 'mc': 'Naruto'}\n",
      "\n",
      "\n",
      "The Merged Dictionary is :  {'mangaka': 'Naruto', 'Mc': 'Monkey D. ', 'mc': 'Naruto'}\n"
     ]
    }
   ],
   "source": [
    "#8:prgm to create and merge two dictionary\n",
    "d1={}\n",
    "d2={}\n",
    "d3={}\n",
    "a=int(input(\"Enter Limit of Inputs for dic 1: \"))\n",
    "for i in range(a):\n",
    "    key=input(\"Key: \")\n",
    "    value=input(\"Value: \")\n",
    "    d1.update({key:value})\n",
    "print(\"The First Dictionary is: \",d1)\n",
    "print(\"\\n\")\n",
    "b=int(input(\"Enter Limit of Inputs for dic 2: \"))\n",
    "for i in range(b):\n",
    "    key=input(\"Key: \")\n",
    "    value=input(\"Value: \")\n",
    "    d2.update({key:value})\n",
    "print(\"The Second Dictionary is: \",d2)\n",
    "print(\"\\n\")\n",
    "d3.update(d1)\n",
    "d3.update(d2)\n",
    "print(\"The Merged Dictionary is : \",d3)"
   ]
  },
  {
   "cell_type": "code",
   "execution_count": null,
   "metadata": {
    "collapsed": true
   },
   "outputs": [],
   "source": [
    "#4:prgm to input 2 list and check if length is same,sums to same value,any value occur in both\n",
    "a=list(map(int,input(\"Enter Integer Numbers separated by Comma's: \").split(\",\")))\n",
    "#c=a\n",
    "b=list(map(int,input(\"Enter Integer Numbers separated by Comma's: \").split(\",\")))\n",
    "#Length\n",
    "if len(a)==len(b):\n",
    "    print(\"Both List's have same Length, Which is :\",len(a))\n",
    "else:\n",
    "    print(\"Both List's have Different Length: \",len(a),\"and\",len(b))\n",
    "#Sum\n",
    "if sum(a)==sum(b) :\n",
    "    print(\"The Sum of List's are Same, Which is: \",sum(a))\n",
    "else :\n",
    "    print(\"The Sum's are Different and are \" ,sum(a),\"&\",sum(b),\" respectively.\" )\n",
    "c=[x for x in a if x in b ]\n",
    "if c!=0:\n",
    "    print(\"The Same Elements in Both List: \",c)\n",
    "else:\n",
    "    print(\"There is No Same Elements in Given List ! \")\n"
   ]
  },
  {
   "cell_type": "code",
   "execution_count": null,
   "metadata": {
    "collapsed": true
   },
   "outputs": [],
   "source": []
  }
 ],
 "metadata": {
  "kernelspec": {
   "display_name": "Python 3",
   "language": "python",
   "name": "python3"
  },
  "language_info": {
   "codemirror_mode": {
    "name": "ipython",
    "version": 3
   },
   "file_extension": ".py",
   "mimetype": "text/x-python",
   "name": "python",
   "nbconvert_exporter": "python",
   "pygments_lexer": "ipython3",
   "version": "3.8.8"
  }
 },
 "nbformat": 4,
 "nbformat_minor": 2
}
