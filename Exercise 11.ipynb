{
 "cells": [
  {
   "cell_type": "code",
   "execution_count": 3,
   "metadata": {
    "collapsed": true
   },
   "outputs": [
    {
     "name": "stdout",
     "output_type": "stream",
     "text": [
      "Enter the source file to be copied: myfile1.txt\n",
      "Enter the Destination file : myfile.txt\n",
      "File Copied\n"
     ]
    }
   ],
   "source": [
    "#1:Prgm to copy a text file to another file\n",
    "file1=input(\"Enter the source file to be copied: \")\n",
    "file2=input(\"Enter the Destination file : \")\n",
    "fr=open(file1,\"r\")\n",
    "fw=open(file2,\"w\")\n",
    "for line in fr.readlines():\n",
    "    fw.write(line)\n",
    "fr.close()\n",
    "fw.close()\n",
    "print(\"File Copied\")"
   ]
  },
  {
   "cell_type": "code",
   "execution_count": 6,
   "metadata": {
    "collapsed": true
   },
   "outputs": [
    {
     "name": "stdout",
     "output_type": "stream",
     "text": [
      "Enter the source file to be Appended: myfile1.txt\n",
      "Enter the file where to appen: myfile.txt\n",
      "File Successfully Appended\n"
     ]
    }
   ],
   "source": [
    "#2:Prgm to append a file into another file\n",
    "file1=input(\"Enter the source file to be Appended: \")\n",
    "file2=input(\"Enter the file where to appen: \")\n",
    "fa=open(file1,\"r\")\n",
    "fw=open(file2,\"a+\")\n",
    "for line in fa.readlines():\n",
    "    fw.write(line)\n",
    "fa.close()\n",
    "fw.close()\n",
    "print(\"File Successfully Appended\")"
   ]
  },
  {
   "cell_type": "code",
   "execution_count": 5,
   "metadata": {
    "collapsed": true
   },
   "outputs": [
    {
     "name": "stdout",
     "output_type": "stream",
     "text": [
      "Enter the Filename to count the lines: myfile.txt\n",
      "The No. of lines  myfile.txt has is:  5\n"
     ]
    }
   ],
   "source": [
    "#prgm to count the  number of lines \n",
    "filenm=input(\"Enter the Filename to count the lines: \")\n",
    "fr=open(filenm,\"r\")\n",
    "cnt=0\n",
    "for i in fr.readlines():\n",
    "    cnt=cnt+1\n",
    "fr.close()\n",
    "print(\"The No. of lines \",filenm,\"has is: \",cnt)"
   ]
  },
  {
   "cell_type": "code",
   "execution_count": 7,
   "metadata": {
    "collapsed": true
   },
   "outputs": [
    {
     "name": "stdout",
     "output_type": "stream",
     "text": [
      "Enter the Source File: myfile.txt\n",
      "Enter the Destinaton File: oddmonekndmvazhi.txt\n",
      "A new file is Created with Odd no.'s of Given file\n"
     ]
    }
   ],
   "source": [
    "#prgm to create a file using odd lines of a file \n",
    "flnm1=input(\"Enter the Source File: \")\n",
    "flnm2=input(\"Enter the Destinaton File: \")\n",
    "fr=open(flnm1,\"r\")\n",
    "fw=open(flnm2,\"w\")\n",
    "c=0\n",
    "for i in fr.readlines():\n",
    "    c+=1\n",
    "    if c%2!=0:\n",
    "        fw.write(i)\n",
    "fr.close()\n",
    "fw.close()\n",
    "print(\"A new file is Created with Odd no.'s of Given file\")"
   ]
  },
  {
   "cell_type": "code",
   "execution_count": null,
   "metadata": {
    "collapsed": true
   },
   "outputs": [],
   "source": [
    "#prgm to write a python dic to a csv file and read and display\n",
    "import csv\n",
    "with open('dicsv.txt','w') as d:\n",
    "    fldnms=['EMP_ID','EMP_Name','EMP_Dob','EMP_Salary']\n",
    "    writer=csv.DictWriter(d,fieldnames=fldnms)\n",
    "    writer.write\n",
    "Emp = [\n",
    "{'EMP_ID': 1, 'Company': 'Ferrari', 'Car Model': '488 GTB'},\n",
    "{'EMP_ID': 2, 'Company': 'Porsche', 'Car Model': '918 Spyder'},\n",
    "{'EMP_ID': 3, 'Company': 'Bugatti', 'Car Model': 'La Voiture Noire'},\n",
    "{'EMP_ID': 4, 'Company': 'Rolls Royce', 'Car Model': 'Phantom'},\n",
    "{'EMP_ID': 5, 'Company': 'BMW', 'Car Model': 'BMW X7'},\n",
    "]\n",
    "  \n",
    "with open('Names.csv', 'w') as csvfile:\n",
    "    writer = csv.DictWriter(csvfile, fieldnames = field_names)\n",
    "    writer.writeheader()\n",
    "    writer.writerows(cars)"
   ]
  }
 ],
 "metadata": {
  "kernelspec": {
   "display_name": "Python 3",
   "language": "python",
   "name": "python3"
  },
  "language_info": {
   "codemirror_mode": {
    "name": "ipython",
    "version": 3
   },
   "file_extension": ".py",
   "mimetype": "text/x-python",
   "name": "python",
   "nbconvert_exporter": "python",
   "pygments_lexer": "ipython3",
   "version": "3.6.3"
  }
 },
 "nbformat": 4,
 "nbformat_minor": 2
}
