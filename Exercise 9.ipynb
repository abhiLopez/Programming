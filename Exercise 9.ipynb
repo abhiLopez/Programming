{
 "cells": [
  {
   "cell_type": "code",
   "execution_count": 1,
   "metadata": {},
   "outputs": [
    {
     "name": "stdout",
     "output_type": "stream",
     "text": [
      "\n",
      "1.SQUARE\n",
      "2.RECTANGLE\n",
      "3.TRIANGLE\n",
      "4.EXIT\n",
      "Enter any option: 1\n",
      "Enter side: 4\n",
      "Area Of SQUARE :  16\n"
     ]
    }
   ],
   "source": [
    "#1:prgm to area using lambda function\n",
    "sarea=lambda a: a*a\n",
    "\n",
    "rectarea=lambda a,b: a*b\n",
    "\n",
    "triarea=lambda a,b,c,s:(s*(s-a)*(s-b)*(s-c))**0.5\n",
    "\n",
    "while(1):\n",
    "    print(\"\\n1.SQUARE\\n2.RECTANGLE\\n3.TRIANGLE\\n4.EXIT\")\n",
    "    ch=int(input(\"Enter any option: \"))\n",
    "    if ch==1:\n",
    "        a=int(input(\"Enter side: \"))\n",
    "        print(\"Area Of SQUARE : \",sarea(a))\n",
    "    elif ch==2:\n",
    "        a=int(input(\"Enter length: \"))\n",
    "        b=int(input(\"Enter breadth: \"))\n",
    "        print(\"Area Of RECTANGLE : \",rectarea(a,b))\n",
    "    elif ch==3:\n",
    "        a=int(input(\"Enter first side: \"))\n",
    "        b=int(input(\"Enter second side: \"))\n",
    "        c=int(input(\"Enter third side: \"))\n",
    "        s=(a+b+c)/2\n",
    "        print(\"Area Of TRIANGLE: \",triarea(a,b,c,s))\n",
    "    else:\n",
    "        print(\"EXITED!\")\n",
    "    break"
   ]
  },
  {
   "cell_type": "code",
   "execution_count": 2,
   "metadata": {},
   "outputs": [
    {
     "name": "stdout",
     "output_type": "stream",
     "text": [
      " Enter a 4 digit Lower range:1111\n",
      "Enter a 4 digit higher range: 9999\n",
      "The required list is:  [4624, 6084, 6400, 8464]\n"
     ]
    }
   ],
   "source": [
    "#2:prgm to get perfect square and 4 digit of a range\n",
    "\n",
    "import math\n",
    "n1=int(input(\" Enter a 4 digit Lower range:\")) #l=list(map(int,input(\"Enter some coma seperated 4 d\")))\n",
    "n2=int(input(\"Enter a 4 digit higher range: \"))\n",
    "l=[]\n",
    "x=0\n",
    "for i in range(n1,n2):\n",
    "    x=i\n",
    "    while x!=0:\n",
    "        k1=x%10\n",
    "        x=int(x/10)\n",
    "        k2=x%10\n",
    "        x=int(x/10)\n",
    "        k3=x%10\n",
    "        x=int(x/10)\n",
    "        k4=x%10\n",
    "        x=int(x/10)\n",
    "        sq=int(math.sqrt(i))\n",
    "    if sq*sq==i:\n",
    "        if k1%2==0 and k2%2==0 and k3%2==0 and k4%2==0:\n",
    "            l.append(i)\n",
    "print(\"The required list is: \",l)"
   ]
  },
  {
   "cell_type": "code",
   "execution_count": 2,
   "metadata": {},
   "outputs": [
    {
     "name": "stdout",
     "output_type": "stream",
     "text": [
      "Enter a word: evening\n",
      "The word before formating is : evening\n",
      "The formated word is : eveningly\n"
     ]
    }
   ],
   "source": [
    "#3:prgm to add \"ing & if alrdy ing then add ly\" string formating\n",
    "word=input(\"Enter a word: \")\n",
    "print(\"The word before formating is :\",word)\n",
    "str1=word[-3]+word[-2]+word[-1]\n",
    "#str1=word[-3:-1] \n",
    "if str1==\"ing\":\n",
    "    word=word+\"ly\"\n",
    "else:\n",
    "    word=word+\"ing\"\n",
    "print(\"The formated word is :\",word)"
   ]
  },
  {
   "cell_type": "code",
   "execution_count": 1,
   "metadata": {},
   "outputs": [
    {
     "name": "stdout",
     "output_type": "stream",
     "text": [
      "Enter some coma seperated words: abhi,abhirag,abhiragpradeep\n",
      "The length of longest word : 14\n"
     ]
    }
   ],
   "source": [
    "#4:Prgm for finding length of longest word\n",
    "l1=[]\n",
    "str1=input(\"Enter some coma seperated words: \")\n",
    "l=str1.split(\",\")\n",
    "for i in l:\n",
    "    l1.append(len(i))\n",
    "print(\"The length of longest word :\",max(l1))"
   ]
  },
  {
   "cell_type": "code",
   "execution_count": null,
   "metadata": {
    "collapsed": true
   },
   "outputs": [],
   "source": []
  }
 ],
 "metadata": {
  "kernelspec": {
   "display_name": "Python 3",
   "language": "python",
   "name": "python3"
  },
  "language_info": {
   "codemirror_mode": {
    "name": "ipython",
    "version": 3
   },
   "file_extension": ".py",
   "mimetype": "text/x-python",
   "name": "python",
   "nbconvert_exporter": "python",
   "pygments_lexer": "ipython3",
   "version": "3.6.3"
  }
 },
 "nbformat": 4,
 "nbformat_minor": 2
}
