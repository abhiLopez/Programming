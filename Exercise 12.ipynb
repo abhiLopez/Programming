{
 "cells": [
  {
   "cell_type": "code",
   "execution_count": 3,
   "id": "e6188ff1",
   "metadata": {},
   "outputs": [
    {
     "name": "stdout",
     "output_type": "stream",
     "text": [
      "Enter the Length of first rect : 2\n",
      "Enter the Breadth of first rect : 4\n",
      "Enter the Length of second rect: 3\n",
      "Enter the Breadth of second rect: 6\n",
      "12 Is the Perimeter of First Rectangle.\n",
      "18 Is the Perimeter of Second Rectangle.\n",
      "Area of second rect is greater  18 and comparison by diff in area is  10\n"
     ]
    }
   ],
   "source": [
    "#1:Prgm to create a rct cls with attributtes l and b and methods to find\n",
    "# area and perimeter and compare 2 rect by area\n",
    "class Rect():\n",
    "\n",
    "\tdef getlandb(self, l,b): \n",
    "\t\tself.length = l\n",
    "\t\tself.breadth = b\n",
    "\n",
    "\tdef area(self):\n",
    "\n",
    "\t\treturn self.length*self.breadth\n",
    "\n",
    "\tdef perimeter(self): \n",
    "\t\treturn 2*(self.length+self.breadth)\n",
    "\n",
    "NewRect1 = Rect()\n",
    "NewRect2 = Rect() \n",
    "l1=int(input(\"Enter the Length of first rect : \"))\n",
    "b1=int(input(\"Enter the Breadth of first rect : \"))\n",
    "l2=int(input(\"Enter the Length of second rect: \"))\n",
    "b2=int(input(\"Enter the Breadth of second rect: \"))\n",
    "\n",
    "NewRect1.getlandb(l1,b1) \n",
    "NewRect2.getlandb(l2,b2) \n",
    "area1=NewRect1.area()\n",
    "area2=NewRect2.area()\n",
    "a1=area1-area2\n",
    "a2=area2-area1\n",
    "print(NewRect1.perimeter(),\"Is the Perimeter of First Rectangle.\") \n",
    "print(NewRect2.perimeter(),\"Is the Perimeter of Second Rectangle.\")\n",
    "if (area1>area2) :\n",
    "\tprint(\"Area of first rect is greater \",area1,\"and comparison by diff in area is \",a1)\n",
    "else:\n",
    "\tprint(\"Area of second rect is greater \",area2,\"and comparison by diff in area is \",a2)"
   ]
  },
  {
   "cell_type": "code",
   "execution_count": null,
   "id": "4ffc4823",
   "metadata": {},
   "outputs": [],
   "source": []
  }
 ],
 "metadata": {
  "kernelspec": {
   "display_name": "Python 3",
   "language": "python",
   "name": "python3"
  },
  "language_info": {
   "codemirror_mode": {
    "name": "ipython",
    "version": 3
   },
   "file_extension": ".py",
   "mimetype": "text/x-python",
   "name": "python",
   "nbconvert_exporter": "python",
   "pygments_lexer": "ipython3",
   "version": "3.8.8"
  }
 },
 "nbformat": 4,
 "nbformat_minor": 5
}
