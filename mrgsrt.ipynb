{
 "cells": [
  {
   "cell_type": "code",
   "execution_count": 6,
   "metadata": {},
   "outputs": [
    {
     "name": "stdout",
     "output_type": "stream",
     "text": [
      "Enter the Limit for Inputs: 3\n",
      "Enter a valid Key: 1\n",
      "Enter Key Value: 10\n",
      "Enter a valid Key: 2\n",
      "Enter Key Value: 05\n",
      "Enter a valid Key: 3\n",
      "Enter Key Value: 20\n",
      "The list:  dict_values(['10', '05', '20'])\n",
      "The dictionary values in ascending order:  ['05', '10', '20']\n"
     ]
    }
   ],
   "source": [
    "#7:prgm to create and sort a dictionary\n",
    "d={}\n",
    "l=[]\n",
    "a=int(input(\"Enter the Limit for Inputs: \"))\n",
    "for i in range(a):\n",
    "    key=input(\"Enter a valid Key: \")\n",
    "    value=input(\"Enter Key Value: \")\n",
    "    d.update({key:value})\n",
    "    l=(d.values())\n",
    "print(\"The list: \",l)\n",
    "l1=sorted(l)\n",
    "#l2=sorted(d.values(),reverse=True)\n",
    "print(\"The dictionary values in ascending order: \",l1)\n",
    "#print(\"\\n\")\n",
    "#print(\"The dictionary values in descending order: \",l2)"
   ]
  },
  {
   "cell_type": "code",
   "execution_count": null,
   "metadata": {
    "collapsed": true
   },
   "outputs": [],
   "source": []
  },
  {
   "cell_type": "code",
   "execution_count": null,
   "metadata": {
    "collapsed": true
   },
   "outputs": [],
   "source": []
  }
 ],
 "metadata": {
  "kernelspec": {
   "display_name": "Python 3",
   "language": "python",
   "name": "python3"
  },
  "language_info": {
   "codemirror_mode": {
    "name": "ipython",
    "version": 3
   },
   "file_extension": ".py",
   "mimetype": "text/x-python",
   "name": "python",
   "nbconvert_exporter": "python",
   "pygments_lexer": "ipython3",
   "version": "3.6.3"
  }
 },
 "nbformat": 4,
 "nbformat_minor": 2
}
