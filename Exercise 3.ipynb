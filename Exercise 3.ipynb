{
 "cells": [
  {
   "cell_type": "code",
   "execution_count": 1,
   "metadata": {},
   "outputs": [
    {
     "name": "stdout",
     "output_type": "stream",
     "text": [
      "Enter one Number : 9\n",
      "Enter another Number : 11\n",
      "Enter one more Number : 7\n",
      "Largest Number among the given is: 11\n"
     ]
    }
   ],
   "source": [
    "#1:prgm to Find the biggest of 3 numbers using max()\n",
    "a=int(input(\"Enter one Number : \"))\n",
    "b=int(input(\"Enter another Number : \"))\n",
    "c=int(input(\"Enter one more Number : \"))\n",
    "print(\"Largest Number among the given is: \"+str(max(a,b,c)))"
   ]
  },
  {
   "cell_type": "code",
   "execution_count": 2,
   "metadata": {},
   "outputs": [
    {
     "name": "stdout",
     "output_type": "stream",
     "text": [
      "Enter Temperature in Celcius : 23\n",
      "Given Temperature In Farenheit is: 73.4\n"
     ]
    }
   ],
   "source": [
    "#2:prgm to Convert Temp unit Celcius into farenheit\n",
    "a=int(input(\"Enter Temperature in Celcius : \"))\n",
    "f=(((9/5)*a)+32)\n",
    "print(\"Given Temperature In Farenheit is: \"+str(f))"
   ]
  },
  {
   "cell_type": "code",
   "execution_count": 3,
   "metadata": {},
   "outputs": [
    {
     "name": "stdout",
     "output_type": "stream",
     "text": [
      "Enter the Distace in KiloMeter : 15\n",
      "Distance in Miles is 9.320565\n"
     ]
    }
   ],
   "source": [
    "#3:prgm to Convert Kilometer into Miles\n",
    "km=int(input(\"Enter the Distace in KiloMeter : \"))\n",
    "m=km*0.621371\n",
    "print(\"Distance in Miles is \"+str(m))"
   ]
  },
  {
   "cell_type": "code",
   "execution_count": 7,
   "metadata": {},
   "outputs": [
    {
     "name": "stdout",
     "output_type": "stream",
     "text": [
      "Please Enter the Kilometer you have  to Go : 15\n",
      "15 Kilometers, So you have 9.320565 Miles to Go\n"
     ]
    }
   ],
   "source": [
    "#3.1\n",
    "km=int(input(\"Please Enter the Kilometer you have  to Go : \"))\n",
    "m=km*0.621371\n",
    "print(str(km)+ \" Kilometers, So you have \" +str(m)+ \" Miles to Go\")"
   ]
  },
  {
   "cell_type": "code",
   "execution_count": null,
   "metadata": {
    "collapsed": true
   },
   "outputs": [],
   "source": []
  }
 ],
 "metadata": {
  "kernelspec": {
   "display_name": "Python 3",
   "language": "python",
   "name": "python3"
  },
  "language_info": {
   "codemirror_mode": {
    "name": "ipython",
    "version": 3
   },
   "file_extension": ".py",
   "mimetype": "text/x-python",
   "name": "python",
   "nbconvert_exporter": "python",
   "pygments_lexer": "ipython3",
   "version": "3.6.3"
  }
 },
 "nbformat": 4,
 "nbformat_minor": 2
}
