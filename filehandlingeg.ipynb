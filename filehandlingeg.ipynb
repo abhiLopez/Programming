{
 "cells": [
  {
   "cell_type": "code",
   "execution_count": 5,
   "metadata": {
    "collapsed": true
   },
   "outputs": [],
   "source": [
    "#creating and writing a file\n",
    "f=open(\"myfile.txt\",\"w\")\n",
    "f.write(\"This is an example for file handling\")\n",
    "f.close()"
   ]
  },
  {
   "cell_type": "code",
   "execution_count": 10,
   "metadata": {
    "collapsed": true
   },
   "outputs": [],
   "source": [
    "#write lines to file\n",
    "lines=[\"Hello There.\\n\",\"Unnecessary Files are here\\n\",\"If you are bothered Close It\\n\",\"Get the hell out of here\\n\"]\n",
    "f=open(\"myfile1.txt\",\"w\")\n",
    "f.writelines(lines)\n",
    "f.close()"
   ]
  },
  {
   "cell_type": "code",
   "execution_count": 8,
   "metadata": {},
   "outputs": [
    {
     "name": "stdout",
     "output_type": "stream",
     "text": [
      "Hello There.\n",
      "\n"
     ]
    }
   ],
   "source": [
    "#Reading a line\n",
    "f=open(\"myfile1.txt\",\"r\")\n",
    "line=f.readline()\n",
    "print(line)\n",
    "f.close()"
   ]
  },
  {
   "cell_type": "code",
   "execution_count": 11,
   "metadata": {},
   "outputs": [
    {
     "name": "stdout",
     "output_type": "stream",
     "text": [
      "Hello There.\n",
      "\n",
      "Unnecessary Files are here\n",
      "\n",
      "If you are bothered Close It\n",
      "\n",
      "Get the hell out of here\n",
      "\n"
     ]
    }
   ],
   "source": [
    "#reading lines\n",
    "f=open(\"myfile1.txt\",\"r\")\n",
    "for line in f:\n",
    "    print(line)\n",
    "f.close()"
   ]
  },
  {
   "cell_type": "code",
   "execution_count": 21,
   "metadata": {},
   "outputs": [
    {
     "name": "stdout",
     "output_type": "stream",
     "text": [
      "\n"
     ]
    }
   ],
   "source": [
    "#append text to a file\n",
    "f=open(\"myfile1.txt\",\"a+\")\n",
    "f.write(\"\\nThis is an example for file handling\\n\")\n",
    "line=f.readline()\n",
    "#f=open(\"myfile1.txt\",\"r+\")\n",
    "print(line)\n",
    "f.close()"
   ]
  },
  {
   "cell_type": "code",
   "execution_count": 16,
   "metadata": {},
   "outputs": [
    {
     "name": "stdout",
     "output_type": "stream",
     "text": [
      "There.\n",
      "\n",
      "Unnecessary Files are here\n",
      "\n",
      "If you are bothered Close It\n",
      "\n",
      "Get the hell out of here\n",
      "\n",
      "This is an example for file handlingThis is an example for file handling\n",
      "\n",
      "\n",
      "\n",
      "This is an example for file handling\n",
      "\n",
      "\n",
      "\n",
      "This is an example for file handling\n",
      "\n"
     ]
    }
   ],
   "source": [
    "#how to seek file\n",
    "f=open(\"myfile1.txt\",\"r+\")\n",
    "f.seek(6,0)\n",
    "lines=f.readlines()\n",
    "for line in lines:\n",
    "    print(line)\n",
    "f.close()"
   ]
  },
  {
   "cell_type": "code",
   "execution_count": null,
   "metadata": {
    "collapsed": true
   },
   "outputs": [],
   "source": []
  }
 ],
 "metadata": {
  "kernelspec": {
   "display_name": "Python 3",
   "language": "python",
   "name": "python3"
  },
  "language_info": {
   "codemirror_mode": {
    "name": "ipython",
    "version": 3
   },
   "file_extension": ".py",
   "mimetype": "text/x-python",
   "name": "python",
   "nbconvert_exporter": "python",
   "pygments_lexer": "ipython3",
   "version": "3.6.3"
  }
 },
 "nbformat": 4,
 "nbformat_minor": 2
}
