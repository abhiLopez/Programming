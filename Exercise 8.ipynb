{
 "cells": [
  {
   "cell_type": "code",
   "execution_count": 1,
   "metadata": {
    "collapsed": true
   },
   "outputs": [
    {
     "name": "stdout",
     "output_type": "stream",
     "text": [
      "Enter first  number: 5\n",
      "Enter second number: 6\n",
      "Enter third  number: 7\n",
      "The Numbers are Not Equal and Sum is :  18\n"
     ]
    }
   ],
   "source": [
    "#1:prgm to find sum using function\n",
    "a=int(input(\"Enter first  number: \"))\n",
    "b=int(input(\"Enter second number: \"))\n",
    "c=int(input(\"Enter third  number: \"))\n",
    "\n",
    "def sss(x,y,z):\n",
    "    s=x+y+z\n",
    "    s2='NULL'\n",
    "   \n",
    "    if x==y==z:\n",
    "        s2=3*s\n",
    "    return (s,s2) \n",
    "r1,r2=sss(a,b,c)\n",
    "if r2=='NULL':\n",
    "    print(\"The Numbers are Not Equal and Sum is : \",r1)\n",
    "else:\n",
    "    print(\"Numbers are Equal || Sum is: \",r1,\"and Thrice the sum is: \",r2)"
   ]
  },
  {
   "cell_type": "code",
   "execution_count": 2,
   "metadata": {},
   "outputs": [
    {
     "name": "stdout",
     "output_type": "stream",
     "text": [
      "Enter a number: 123\n",
      "The sum of digits of  123  is :  6\n"
     ]
    }
   ],
   "source": [
    "#2:prgm for finding sum of digits of number\n",
    "a=input(\"Enter a number: \")\n",
    "def sd(x):\n",
    "    temp=x\n",
    "    s=0\n",
    "    for i in temp:\n",
    "        s=s+int(i)\n",
    "    return s\n",
    "s1=sd(a)\n",
    "print(\"The sum of digits of \",a,\" is : \",s1)"
   ]
  },
  {
   "cell_type": "code",
   "execution_count": 9,
   "metadata": {},
   "outputs": [
    {
     "name": "stdout",
     "output_type": "stream",
     "text": [
      "Enter a string: Abhirag D LopeZ\n",
      "Number of uppercase are: 4\n",
      "Number of lowercase are: 9\n"
     ]
    }
   ],
   "source": [
    "#3:prgm to find ttl no. of uppercase and lowercase of a given  word\n",
    "a=input(\"Enter a string: \")\n",
    "def ul(a):\n",
    "    u=l=0\n",
    "    for a in a:\n",
    "        if a.isupper()==1:\n",
    "            u=u+1\n",
    "        elif a.islower()==1:\n",
    "            l=l+1\n",
    "    return(u,l)\n",
    "upr,lwr=ul(a)\n",
    "print(\"Number of uppercase are:\",upr)\n",
    "print(\"Number of lowercase are:\",lwr)"
   ]
  },
  {
   "cell_type": "code",
   "execution_count": 2,
   "metadata": {},
   "outputs": [
    {
     "name": "stdout",
     "output_type": "stream",
     "text": [
      "Enter a number: 10\n",
      "10  is NOT a Prime Number.\n"
     ]
    }
   ],
   "source": [
    "#4:prgm to find whether a number is prme or not\n",
    "import math\n",
    "n=int(input(\"Enter a number: \"))\n",
    "f=1\n",
    "\n",
    "def prime(num):\n",
    "    for i in range(2,int(math.sqrt(num)+1)):\n",
    "        if num%i==0:\n",
    "            return 1\n",
    "    return 0\n",
    "f=prime(n)\n",
    "if f==1:\n",
    "    print(n,\" is NOT a Prime Number.\")\n",
    "else:\n",
    "    print(n,\" is A Prime.\")"
   ]
  },
  {
   "cell_type": "code",
   "execution_count": 12,
   "metadata": {},
   "outputs": [
    {
     "name": "stdout",
     "output_type": "stream",
     "text": [
      "Enter current year: 2021\n",
      "Enter limit of year: 2040\n",
      "The leap years in the range are: \n",
      "2024 ,2028 ,2032 ,2036 ,2040 ,"
     ]
    }
   ],
   "source": [
    "#5:prgm to print leap yrs in a range\n",
    "a=int(input(\"Enter current year: \"))\n",
    "b=int(input(\"Enter limit of year: \"))\n",
    "def leap(l,u):\n",
    "    for i in range(l,u+1):\n",
    "        if i%4==0:\n",
    "            if i%100==0:\n",
    "                if i%400==0:\n",
    "                    print(i,\",\",end=\"\")\n",
    "            print(i,\",\",end=\"\")\n",
    "print(\"The leap years in the range are: \")\n",
    "leap(a,b)"
   ]
  },
  {
   "cell_type": "code",
   "execution_count": 6,
   "metadata": {},
   "outputs": [
    {
     "name": "stdout",
     "output_type": "stream",
     "text": [
      "Enter number of employees : 1\n",
      "Enter name of employee: lopez\n",
      "Enter salary of employee: 1000\n",
      "The Givem Employee name is  lopez  and his salary is  8000\n",
      "\n"
     ]
    }
   ],
   "source": [
    "#6:prgm to print employee name salary as a single line\n",
    "def showEmployee(empname,sal=8000):\n",
    "    print(\"The Givem Employee name is \",empname,\" and his salary is \",sal)\n",
    "    print()\n",
    "n=int(input(\"Enter number of employees : \"))\n",
    "for i in range(n):\n",
    "    name=input(\"Enter name of employee: \")\n",
    "    salary=int(input(\"Enter salary of employee: \"))\n",
    "    if salary <= 5000:\n",
    "        showEmployee(name)\n",
    "    else:\n",
    "        showEmployee(name,salary)"
   ]
  },
  {
   "cell_type": "code",
   "execution_count": 7,
   "metadata": {},
   "outputs": [
    {
     "name": "stdout",
     "output_type": "stream",
     "text": [
      "Enter the number of values: 3\n",
      "Enter a value: 7\n",
      "Enter a value: 5\n",
      "Enter a value: 3\n",
      "The Minimum of entered items:  3\n"
     ]
    }
   ],
   "source": [
    "#7:prgm to min of argument values in given i/p\n",
    "l=[]\n",
    "def minvalue(*tup):\n",
    "    print(\"The Minimum of entered items: \",min(tup))\n",
    "n=int(input(\"Enter the number of values: \"))\n",
    "i=0\n",
    "for i in range(n):\n",
    "    k=int(input(\"Enter a value: \"))\n",
    "    l.append(k)\n",
    "x=tuple(l)\n",
    "minvalue(*x)"
   ]
  },
  {
   "cell_type": "code",
   "execution_count": 9,
   "metadata": {},
   "outputs": [
    {
     "name": "stdout",
     "output_type": "stream",
     "text": [
      "Enter people count : 1\n",
      "Details of Person: 1\n",
      "Enter Count of information you wish to provide: 2\n",
      "Enter a type : Anime\n",
      "Enter it's value: One Piece\n",
      "Enter a type : Hero\n",
      "Enter it's value: Monkey D.Luffy\n",
      "{'Anime': 'One Piece', 'Hero': 'Monkey D.Luffy'}\n",
      "\n",
      "\n"
     ]
    }
   ],
   "source": [
    "#8:prgm to print a user info\n",
    "def uinfo(**d1):\n",
    "    print(d1)\n",
    "    d.clear()\n",
    "    print(\"\\n\")\n",
    "d={}\n",
    "n=int(input(\"Enter people count : \"))\n",
    "for i in range(n):\n",
    "    print(\"Details of Person:\",i+1)\n",
    "    n2=int(input(\"Enter Count of information you wish to provide: \"))\n",
    "    for j in range(n2):\n",
    "        key=input(\"Enter a type : \")\n",
    "        val=input(\"Enter it's value: \")\n",
    "        d.update({key:val})\n",
    "    uinfo(**d)"
   ]
  },
  {
   "cell_type": "code",
   "execution_count": null,
   "metadata": {
    "collapsed": true
   },
   "outputs": [],
   "source": []
  }
 ],
 "metadata": {
  "kernelspec": {
   "display_name": "Python 3",
   "language": "python",
   "name": "python3"
  },
  "language_info": {
   "codemirror_mode": {
    "name": "ipython",
    "version": 3
   },
   "file_extension": ".py",
   "mimetype": "text/x-python",
   "name": "python",
   "nbconvert_exporter": "python",
   "pygments_lexer": "ipython3",
   "version": "3.6.3"
  }
 },
 "nbformat": 4,
 "nbformat_minor": 2
}
