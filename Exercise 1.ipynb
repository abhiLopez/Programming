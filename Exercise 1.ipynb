{
 "cells": [
  {
   "cell_type": "code",
   "execution_count": 3,
   "metadata": {
    "scrolled": true
   },
   "outputs": [
    {
     "name": "stdout",
     "output_type": "stream",
     "text": [
      "Enter the Side :2\n",
      "Area of the Square is:  4\n"
     ]
    }
   ],
   "source": [
    "#1:TO Find the area of a Square\n",
    "n=int(input(\"Enter the Side :\"))\n",
    "area=n*n\n",
    "print(\"Area of the Square is: \",area)\n",
    "\n",
    "\n",
    "\n"
   ]
  },
  {
   "cell_type": "code",
   "execution_count": 6,
   "metadata": {},
   "outputs": [
    {
     "name": "stdout",
     "output_type": "stream",
     "text": [
      "Enter the sides of a Triangle: \n",
      "Enter Height: 8\n",
      "Enter Base: 4\n",
      "The Area is:  16.0\n"
     ]
    }
   ],
   "source": [
    "#2:Area of Right Angled triangle\n",
    "print(\"Enter the sides of a Triangle: \")\n",
    "h=int(input(\"Enter Height: \"))\n",
    "b=int(input(\"Enter Base: \"))\n",
    "area=(h*b)/2\n",
    "print(\"The Area is: \",area)\n"
   ]
  },
  {
   "cell_type": "code",
   "execution_count": 21,
   "metadata": {},
   "outputs": [
    {
     "name": "stdout",
     "output_type": "stream",
     "text": [
      "Enter Your Name: lopez\n",
      "Hello, lopez!\n"
     ]
    }
   ],
   "source": [
    "#3:Greet your name\n",
    "name=(input(\"Enter Your Name: \"))\n",
    "print('Hello, '+ name +'!')\n"
   ]
  },
  {
   "cell_type": "code",
   "execution_count": 14,
   "metadata": {},
   "outputs": [
    {
     "name": "stdout",
     "output_type": "stream",
     "text": [
      "Enter a Number2\n",
      "1 2 3\n"
     ]
    }
   ],
   "source": [
    "#4:to get NO. one before and one after of the given no. \n",
    "n=int(input('Enter a Number'))\n",
    "print(n-1,n,n+1)"
   ]
  },
  {
   "cell_type": "code",
   "execution_count": 18,
   "metadata": {},
   "outputs": [
    {
     "name": "stdout",
     "output_type": "stream",
     "text": [
      "Enter Principle Amount: 10000\n",
      "Enter no. of years2\n",
      "Enter rate of Interest:5\n",
      "Simple Interest:  1000.0\n"
     ]
    }
   ],
   "source": [
    "#5:Simple Interest\n",
    "p=int(input('Enter Principle Amount: '))\n",
    "n=int(input('Enter no. of years'))\n",
    "r=float(input(\"Enter rate of Interest:\"))\n",
    "s=(p*n*r)/100\n",
    "print(\"Simple Interest: \",s)"
   ]
  },
  {
   "cell_type": "code",
   "execution_count": null,
   "metadata": {
    "collapsed": true
   },
   "outputs": [],
   "source": []
  }
 ],
 "metadata": {
  "kernelspec": {
   "display_name": "Python 3",
   "language": "python",
   "name": "python3"
  },
  "language_info": {
   "codemirror_mode": {
    "name": "ipython",
    "version": 3
   },
   "file_extension": ".py",
   "mimetype": "text/x-python",
   "name": "python",
   "nbconvert_exporter": "python",
   "pygments_lexer": "ipython3",
   "version": "3.6.3"
  }
 },
 "nbformat": 4,
 "nbformat_minor": 2
}
