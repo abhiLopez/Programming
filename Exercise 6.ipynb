{
 "cells": [
  {
   "cell_type": "code",
   "execution_count": 13,
   "metadata": {},
   "outputs": [
    {
     "name": "stdout",
     "output_type": "stream",
     "text": [
      "Enter any Non Negative Number: 5\n",
      "Factorial of the given Number  5  is :  120\n"
     ]
    }
   ],
   "source": [
    "#1:prgm to find Factorial of  a given Number\n",
    "nm=int(input(\"Enter any Non Negative Number: \"))\n",
    "if nm==0:\n",
    "     print(\"You Entered '0' and Factorial of '0' is One(1).\")\n",
    "else:\n",
    "    temp=nm\n",
    "    f=1\n",
    "    while nm>0:\n",
    "        f=f*nm\n",
    "        nm=nm-1\n",
    "    print(\"Factorial of the given Number \",temp,\" is : \",f)\n",
    "            "
   ]
  },
  {
   "cell_type": "code",
   "execution_count": 22,
   "metadata": {},
   "outputs": [
    {
     "name": "stdout",
     "output_type": "stream",
     "text": [
      "Enter the limit of fibonaci series: 5\n",
      "Fibonaci series upto  5  terms are: \n",
      "0  \n",
      "1  \n",
      "1  \n",
      "2  \n",
      "3  \n"
     ]
    }
   ],
   "source": [
    "#2:prgm to prnt fibonaci series of N terms\n",
    "n=int(input(\"Enter the limit of fibonaci series: \"))\n",
    "a=c=d=0\n",
    "b=1\n",
    "print(\"Fibonaci series upto \",n,\" terms are: \")   \n",
    "while d<=n-1:\n",
    "    print(c,\" \",)#end=\" \"\n",
    "    a=b\n",
    "    b=c\n",
    "    c=a+b\n",
    "    d=d+1 "
   ]
  },
  {
   "cell_type": "code",
   "execution_count": 24,
   "metadata": {},
   "outputs": [
    {
     "name": "stdout",
     "output_type": "stream",
     "text": [
      "Enter a number: 24\n",
      "Enter an another number: 18\n",
      "The Greatest Common Divisor of  24  and  18  is: 6\n"
     ]
    }
   ],
   "source": [
    "#3:prgm to fnd greatest common divisor of 2 numbers\n",
    "nm1=int(input(\"Enter a number: \"))\n",
    "nm2=int(input(\"Enter an another number: \"))\n",
    "if nm1<nm2:\n",
    "    m=nm1\n",
    "else:\n",
    "    m=nm2\n",
    "while m>0:\n",
    "    if (nm1%m==0) and (nm2%m==0):\n",
    "        print(\"The Greatest Common Divisor of \",nm1,\" and \",nm2,\" is:\",m)\n",
    "        break\n",
    "    m=m-1 \n"
   ]
  },
  {
   "cell_type": "code",
   "execution_count": 26,
   "metadata": {},
   "outputs": [
    {
     "name": "stdout",
     "output_type": "stream",
     "text": [
      "Enter  a few comma seperated numbers: 25,25,25,25\n",
      "Sum of the elements of the list  ['25', '25', '25', '25']  is:  100\n"
     ]
    }
   ],
   "source": [
    "#4:prgm to prnt sum of all items in a list\n",
    "str=input(\"Enter  a few comma seperated numbers: \")\n",
    "l=str.split(\",\")\n",
    "s=i=0\n",
    "for i in l:\n",
    "    s=s+int(i)\n",
    "print(\"Sum of the elements of the list \",l, \" is: \",s)\n"
   ]
  },
  {
   "cell_type": "code",
   "execution_count": 7,
   "metadata": {},
   "outputs": [
    {
     "name": "stdout",
     "output_type": "stream",
     "text": [
      "Enter a number: 5\n",
      "The Formed pyramid is: \n",
      "1 \n",
      "\n",
      "2 4 \n",
      "\n",
      "3 6 9 \n",
      "\n",
      "4 8 12 16 \n",
      "\n",
      "5 10 15 20 25 \n",
      "\n"
     ]
    }
   ],
   "source": [
    "#5:prgm to print pyramid of given number\n",
    "n=int(input(\"Enter a number: \"))\n",
    "print(\"The Formed pyramid is: \")\n",
    "\n",
    "for i in range(1,n+1):\n",
    "    \n",
    "    for j in range(1,i+1):\n",
    "        print(i*j,end=\" \")\n",
    "    print(\"\\n\")\n",
    "\n"
   ]
  },
  {
   "cell_type": "code",
   "execution_count": 11,
   "metadata": {},
   "outputs": [
    {
     "name": "stdout",
     "output_type": "stream",
     "text": [
      "Enter a String: MALAYALAM\n",
      "Frequency of the Character M in  MALAYALAM  is:  2\n",
      "Frequency of the Character A in  MALAYALAM  is:  4\n",
      "Frequency of the Character L in  MALAYALAM  is:  2\n",
      "Frequency of the Character Y in  MALAYALAM  is:  1\n"
     ]
    }
   ],
   "source": [
    "#6: prgm to count the number of characters(character frequency) in a  string\n",
    "#n=input(\"Enter a string: \")\n",
    "#l=len(n)\n",
    "#temp=n\n",
    "#f=[None]*l\n",
    "#for i in range(l):\n",
    "#    f[i]=1\n",
    "#    for j in range(i+1,l):\n",
    "#        if(temp[i]==temp[j]):\n",
    "#            f[i]=f[i]+1\n",
    "#            temp=temp[:j]+'0'+temp[j+1:]\n",
    "#print(\"The frequency of characters of the entered string is: \")\n",
    "#for i in range(0, len(f)):\n",
    " #   if(temp[i] != ' ' and temp[i] != '0'):\n",
    " #       print(temp[i] + \"-\" , f[i]);\n",
    "\n",
    "\n",
    "#n=input(\"Enter String: \")\n",
    "#l=list(n)\n",
    "#s=set(l)\n",
    "#l2=list(s)\n",
    "#for i in range(len(l2)):\n",
    " #m=l.count(l2[i])\n",
    " #print(No. of Occurance of \",l2[i], \"in\",n,\"is\",m)\n",
    "#print(s)\n",
    "n=input(\"Enter a String: \")\n",
    "l=list(n)\n",
    "s=[]\n",
    "[s.append(x) for x in l if x not in s]\n",
    "for i in s:\n",
    "    m=l.count(i)\n",
    "    print(\"Frequency of the Character\",i,\"in \",n,\" is: \",m)"
   ]
  },
  {
   "cell_type": "code",
   "execution_count": 32,
   "metadata": {},
   "outputs": [
    {
     "name": "stdout",
     "output_type": "stream",
     "text": [
      "Enter a number: 12\n",
      "The factors of the given number  12  are :\n",
      "12  6  4  3  2  1  "
     ]
    }
   ],
   "source": [
    "#7:prgm to print factors of a given number\n",
    "num=int(input(\"Enter a Number: \"))\n",
    "i=num\n",
    "print(\"The Factors of the given number \",num,\" are :\")\n",
    "while i>0:\n",
    "    if(num%i==0):\n",
    "        print(i,\" \",end=\"\")\n",
    "    i=i-1 \n"
   ]
  },
  {
   "cell_type": "code",
   "execution_count": 6,
   "metadata": {},
   "outputs": [
    {
     "name": "stdout",
     "output_type": "stream",
     "text": [
      "* \n",
      "\n",
      "* * \n",
      "\n",
      "* * * \n",
      "\n",
      "* * * * \n",
      "\n",
      "* * * * * \n",
      "\n",
      "* * * * \n",
      "\n",
      "* * * \n",
      "\n",
      "* * \n",
      "\n",
      "* \n",
      "\n"
     ]
    }
   ],
   "source": [
    "#8:prgm to print a pattern of star\n",
    "for i in range(0,4):\n",
    "    for j in range(0, i+1):\n",
    "        print(\"* \",end=\"\")\n",
    "    print(\"\\n\")\n",
    "for i in range(4,-1,-1):\n",
    "    for j in range(0,i+1):\n",
    "        print(\"* \",end=\"\")\n",
    "    print(\"\\n\")"
   ]
  },
  {
   "cell_type": "code",
   "execution_count": null,
   "metadata": {
    "collapsed": true
   },
   "outputs": [],
   "source": []
  }
 ],
 "metadata": {
  "kernelspec": {
   "display_name": "Python 3",
   "language": "python",
   "name": "python3"
  },
  "language_info": {
   "codemirror_mode": {
    "name": "ipython",
    "version": 3
   },
   "file_extension": ".py",
   "mimetype": "text/x-python",
   "name": "python",
   "nbconvert_exporter": "python",
   "pygments_lexer": "ipython3",
   "version": "3.6.3"
  }
 },
 "nbformat": 4,
 "nbformat_minor": 2
}
