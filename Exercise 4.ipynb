{
 "cells": [
  {
   "cell_type": "code",
   "execution_count": 4,
   "metadata": {},
   "outputs": [
    {
     "name": "stdout",
     "output_type": "stream",
     "text": [
      "Enter a Name or a Word: Lopez\n",
      "We have Swapped something for you :  zopeL\n"
     ]
    }
   ],
   "source": [
    "#1:Prgm To swap first and last char of a string\n",
    "nm=input(\"Enter a Name or a Word: \")\n",
    "length=len(nm)\n",
    "nm=nm[length-1]+nm[1:length-1]+nm[0]\n",
    "print(\"We have Swapped something for you : \",nm)"
   ]
  },
  {
   "cell_type": "code",
   "execution_count": 8,
   "metadata": {},
   "outputs": [
    {
     "name": "stdout",
     "output_type": "stream",
     "text": [
      "Enter a Name or a Word: TOM\n",
      "Concatinated form is:  TOOM\n"
     ]
    }
   ],
   "source": [
    "#2:Prgm to concat first two  and last two char of the given string\n",
    "s=input(\"Enter a Name or a Word: \")\n",
    "length=len(s)\n",
    "z=s[0:2]+s[length-2:length]\n",
    "print('Concatinated form is: ',z)"
   ]
  },
  {
   "cell_type": "code",
   "execution_count": 3,
   "metadata": {},
   "outputs": [
    {
     "name": "stdout",
     "output_type": "stream",
     "text": [
      "Enter any String : TOM\n",
      "Enter one more String : JERRY\n",
      "OUTPUT STRING form is:  JEM TORRY\n"
     ]
    }
   ],
   "source": [
    "#3:prgm to get a single string from two given strings and a space and swap first 2 char of each string \n",
    "a=input(\"Enter any String : \")\n",
    "b=input(\"Enter one more String : \")\n",
    "length1=len(a)\n",
    "length2=len(b)\n",
    "z=b[0:2]+a[2:length1]+' '+a[0:2]+b[2:length2]\n",
    "print('OUTPUT STRING form is: ',z)"
   ]
  },
  {
   "cell_type": "code",
   "execution_count": 11,
   "metadata": {},
   "outputs": [
    {
     "name": "stdout",
     "output_type": "stream",
     "text": [
      "Enter a String: ONION\n",
      "The Result is :  ONI$N\n"
     ]
    }
   ],
   "source": [
    "#4:prgm to replace specified char by $\n",
    "a=input(\"Enter a String: \")\n",
    "n=a.replace(a[0],\"$\")\n",
    "b=a[0]+n[1:(len(n))]\n",
    "print(\"The Result is : \",b)"
   ]
  },
  {
   "cell_type": "code",
   "execution_count": null,
   "metadata": {
    "collapsed": true
   },
   "outputs": [],
   "source": []
  }
 ],
 "metadata": {
  "kernelspec": {
   "display_name": "Python 3",
   "language": "python",
   "name": "python3"
  },
  "language_info": {
   "codemirror_mode": {
    "name": "ipython",
    "version": 3
   },
   "file_extension": ".py",
   "mimetype": "text/x-python",
   "name": "python",
   "nbconvert_exporter": "python",
   "pygments_lexer": "ipython3",
   "version": "3.6.3"
  }
 },
 "nbformat": 4,
 "nbformat_minor": 2
}
