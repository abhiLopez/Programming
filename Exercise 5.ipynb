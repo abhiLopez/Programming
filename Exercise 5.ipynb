{
 "cells": [
  {
   "cell_type": "code",
   "execution_count": 4,
   "metadata": {},
   "outputs": [
    {
     "name": "stdout",
     "output_type": "stream",
     "text": [
      "Enter a ',' Seperated Sequence of Numbers : 7,6,5,4\n",
      "Result is :  ['7', '6', '5', '4']\n"
     ]
    }
   ],
   "source": [
    "#1:prgm to accept Sequence of ',' seperated NO.'s and Generate a list \n",
    "a=input(\"Enter a ',' Seperated Sequence of Numbers : \")\n",
    "x=a.split(\",\")\n",
    "print(\"Result is : \",x)\n"
   ]
  },
  {
   "cell_type": "code",
   "execution_count": 2,
   "metadata": {},
   "outputs": [
    {
     "name": "stdout",
     "output_type": "stream",
     "text": [
      "Enter a Sequence of colors with comma(,) : Blue,Red,Green,Aqua,Black\n",
      "The First Colour is :  Blue\n",
      "The Last Colour is :  Black\n"
     ]
    }
   ],
   "source": [
    "#2:prgm to accept ',' seperated list of color's and display first and last colors\n",
    "colr=input(\"Enter a Sequence of colors with comma(,) : \")\n",
    "rs=colr.split(\",\")\n",
    "print(\"The First Colour is : \",rs[0])\n",
    "print(\"The Last Colour is : \",rs[-1])"
   ]
  },
  {
   "cell_type": "code",
   "execution_count": 7,
   "metadata": {},
   "outputs": [
    {
     "name": "stdout",
     "output_type": "stream",
     "text": [
      "Enter a FileName with Extension format: prgm.JAVA\n",
      "The Extension of The entered file is :  JAVA\n"
     ]
    }
   ],
   "source": [
    "#3:prgm to accept file_name and print their extension\n",
    "a=input(\"Enter a FileName with Extension format: \")\n",
    "b=a.split(\".\")\n",
    "print(\"The Extension of The entered file is : \",b[-1])"
   ]
  },
  {
   "cell_type": "code",
   "execution_count": null,
   "metadata": {
    "collapsed": true
   },
   "outputs": [],
   "source": []
  }
 ],
 "metadata": {
  "kernelspec": {
   "display_name": "Python 3",
   "language": "python",
   "name": "python3"
  },
  "language_info": {
   "codemirror_mode": {
    "name": "ipython",
    "version": 3
   },
   "file_extension": ".py",
   "mimetype": "text/x-python",
   "name": "python",
   "nbconvert_exporter": "python",
   "pygments_lexer": "ipython3",
   "version": "3.6.3"
  }
 },
 "nbformat": 4,
 "nbformat_minor": 2
}
